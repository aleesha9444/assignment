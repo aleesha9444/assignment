{
 "cells": [
  {
   "cell_type": "markdown",
   "id": "2f082fbc",
   "metadata": {},
   "source": [
    "# Data Science Tools and Ecosystem"
   ]
  },
  {
   "cell_type": "markdown",
   "id": "2ad2f80f",
   "metadata": {},
   "source": [
    "In this notebook, Data Science Tools and Ecosystem are summarized."
   ]
  },
  {
   "cell_type": "markdown",
   "id": "7ea22688",
   "metadata": {},
   "source": [
    "#####   Objectives :\n",
    "- Most popular languages for Data science are Python, R, Julia, and Scala.\n",
    "- There are various data sources such as : Relational Databases, Flat files and XML documents, and Web Scraping to name a few.\n",
    "- Machine Learning is an important aspect of Data Science\n"
   ]
  },
  {
   "cell_type": "markdown",
   "id": "c2d0dfe0",
   "metadata": {},
   "source": [
    "Some of the popular languages that Data Scientists use are:\n",
    "1. Python\n",
    "2. R\n",
    "3. Scala\n",
    "4. Java\n",
    "5. C++\n",
    "6. Julia"
   ]
  },
  {
   "cell_type": "markdown",
   "id": "dce79c64",
   "metadata": {},
   "source": [
    "Some of the commonly used libraries used by Data Scientists include:\n",
    "1. Seaborn\n",
    "2. Matplotlib\n",
    "3. Scikit Learn\n",
    "4. Keras\n",
    "5. Tensorflow\n",
    "6. Pandas"
   ]
  },
  {
   "cell_type": "markdown",
   "id": "57408a49",
   "metadata": {},
   "source": [
    " Data Science Tools\n",
    "---\n",
    "\n",
    "\n",
    " Apache Spark|\n",
    " ---\n",
    " \n",
    " Jupyter|\n",
    " ---\n",
    " \n",
    " Rstudio|\n",
    " ---\n",
    " \n"
   ]
  },
  {
   "cell_type": "markdown",
   "id": "db229b71",
   "metadata": {},
   "source": [
    "### Below are a few examples of evaluating arithmetic expressions in Python"
   ]
  },
  {
   "cell_type": "code",
   "execution_count": 4,
   "id": "297d7513",
   "metadata": {},
   "outputs": [
    {
     "name": "stdout",
     "output_type": "stream",
     "text": [
      "6\n"
     ]
    }
   ],
   "source": [
    "x = ( 3+3 )\n",
    "print (x)\n"
   ]
  },
  {
   "cell_type": "code",
   "execution_count": 5,
   "id": "c8b56d47",
   "metadata": {},
   "outputs": [
    {
     "data": {
      "text/plain": [
       "17"
      ]
     },
     "execution_count": 5,
     "metadata": {},
     "output_type": "execute_result"
    }
   ],
   "source": [
    "# This a simple arithmetic expression to mutiply then add integers\n",
    "(3*4)+5"
   ]
  },
  {
   "cell_type": "code",
   "execution_count": 9,
   "id": "bf220644",
   "metadata": {},
   "outputs": [
    {
     "data": {
      "text/plain": [
       "0.3333333333333333"
      ]
     },
     "execution_count": 9,
     "metadata": {},
     "output_type": "execute_result"
    }
   ],
   "source": [
    "# This will convert 200 minutes to hours by diving by 60\n",
    "minutes = 200 \n",
    "200 / 600"
   ]
  },
  {
   "cell_type": "markdown",
   "id": "9e0d29b7",
   "metadata": {},
   "source": [
    "## Aurthor\n",
    "Aleesha Arshad"
   ]
  },
  {
   "cell_type": "code",
   "execution_count": null,
   "id": "a1c17c72",
   "metadata": {},
   "outputs": [],
   "source": []
  }
 ],
 "metadata": {
  "kernelspec": {
   "display_name": "Python 3 (ipykernel)",
   "language": "python",
   "name": "python3"
  },
  "language_info": {
   "codemirror_mode": {
    "name": "ipython",
    "version": 3
   },
   "file_extension": ".py",
   "mimetype": "text/x-python",
   "name": "python",
   "nbconvert_exporter": "python",
   "pygments_lexer": "ipython3",
   "version": "3.10.9"
  }
 },
 "nbformat": 4,
 "nbformat_minor": 5
}
