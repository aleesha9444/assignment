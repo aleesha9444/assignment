{
 "cells": [
  {
   "cell_type": "markdown",
   "id": "6daa72df",
   "metadata": {},
   "source": [
    "# Data Science Tools and Ecosystem"
   ]
  },
  {
   "cell_type": "markdown",
   "id": "c95c13c5",
   "metadata": {},
   "source": [
    "In this notebook, Data Science Tools and Ecosystem are summarized."
   ]
  },
  {
   "cell_type": "markdown",
   "id": "a7cd33b4",
   "metadata": {},
   "source": [
    "#####   Objectives :\n",
    "- Most popular languages for Data science are Python, R, Julia, and Scala.\n",
    "- There are various data sources such as : Relational Databases, Flat files and XML documents, and Web Scraping to name a few.\n",
    "- Machine Learning is an important aspect of Data Science\n"
   ]
  },
  {
   "cell_type": "markdown",
   "id": "50130e20",
   "metadata": {},
   "source": [
    "Some of the popular languages that Data Scientists use are:\n",
    "1. Python\n",
    "2. R\n",
    "3. Scala\n",
    "4. Java\n",
    "5. C++\n",
    "6. Julia"
   ]
  },
  {
   "cell_type": "markdown",
   "id": "ab87d264",
   "metadata": {},
   "source": [
    "Some of the commonly used libraries used by Data Scientists include:\n",
    "1. Seaborn\n",
    "2. Matplotlib\n",
    "3. Scikit Learn\n",
    "4. Keras\n",
    "5. Tensorflow\n",
    "6. Pandas"
   ]
  },
  {
   "cell_type": "markdown",
   "id": "b1dd7862",
   "metadata": {},
   "source": [
    " Data Science Tools\n",
    "---\n",
    "\n",
    "\n",
    " Apache Spark|\n",
    " ---\n",
    " \n",
    " Jupyter|\n",
    " ---\n",
    " \n",
    " Rstudio|\n",
    " ---\n",
    " \n"
   ]
  },
  {
   "cell_type": "markdown",
   "id": "53a70b6a",
   "metadata": {},
   "source": [
    "### Below are a few examples of evaluating arithmetic expressions in Python"
   ]
  },
  {
   "cell_type": "code",
   "execution_count": 4,
   "id": "1b4d5fd3",
   "metadata": {},
   "outputs": [
    {
     "name": "stdout",
     "output_type": "stream",
     "text": [
      "6\n"
     ]
    }
   ],
   "source": [
    "x = ( 3+3 )\n",
    "print (x)\n"
   ]
  },
  {
   "cell_type": "code",
   "execution_count": 5,
   "id": "dcccb55a",
   "metadata": {},
   "outputs": [
    {
     "data": {
      "text/plain": [
       "17"
      ]
     },
     "execution_count": 5,
     "metadata": {},
     "output_type": "execute_result"
    }
   ],
   "source": [
    "# This a simple arithmetic expression to mutiply then add integers\n",
    "(3*4)+5"
   ]
  },
  {
   "cell_type": "code",
   "execution_count": 9,
   "id": "68949315",
   "metadata": {},
   "outputs": [
    {
     "data": {
      "text/plain": [
       "0.3333333333333333"
      ]
     },
     "execution_count": 9,
     "metadata": {},
     "output_type": "execute_result"
    }
   ],
   "source": [
    "# This will convert 200 minutes to hours by diving by 60\n",
    "minutes = 200 \n",
    "200 / 600"
   ]
  },
  {
   "cell_type": "markdown",
   "id": "de70126d",
   "metadata": {},
   "source": [
    "## Aurthor\n",
    "Aleesha Arshad"
   ]
  },
  {
   "cell_type": "code",
   "execution_count": null,
   "id": "6a035583",
   "metadata": {},
   "outputs": [],
   "source": []
  }
 ],
 "metadata": {
  "kernelspec": {
   "display_name": "Python 3 (ipykernel)",
   "language": "python",
   "name": "python3"
  },
  "language_info": {
   "codemirror_mode": {
    "name": "ipython",
    "version": 3
   },
   "file_extension": ".py",
   "mimetype": "text/x-python",
   "name": "python",
   "nbconvert_exporter": "python",
   "pygments_lexer": "ipython3",
   "version": "3.10.9"
  }
 },
 "nbformat": 4,
 "nbformat_minor": 5
}
